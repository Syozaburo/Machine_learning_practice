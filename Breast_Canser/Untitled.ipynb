{
 "cells": [
  {
   "cell_type": "code",
   "execution_count": 2,
   "id": "c3cd3b16-a0ab-4464-a879-b0d583eb7f76",
   "metadata": {},
   "outputs": [],
   "source": [
    "#データのロード\n",
    "from sklearn.datasets import load_breast_cancer\n",
    "cancer = load_breast_cancer()\n",
    "\n",
    "#入力データ: x(30次元)\n",
    "#正解データ: y\n",
    "x = cancer.data\n",
    "y = cancer.target"
   ]
  },
  {
   "cell_type": "code",
   "execution_count": 3,
   "id": "ee0f3d13-3250-4bbc-98ef-b303c0193452",
   "metadata": {},
   "outputs": [
    {
     "name": "stdout",
     "output_type": "stream",
     "text": [
      "(569, 30)\n",
      "(512, 30)\n",
      "(57, 30)\n"
     ]
    }
   ],
   "source": [
    "#サンプルデータの分割\n",
    "random_seed =123\n",
    "\n",
    "#データ分割のパラメータ(訓練データ:90%, 検証データ:10%)\n",
    "test_size = 0.1\n",
    "\n",
    "#データ分割\n",
    "from sklearn.model_selection import train_test_split\n",
    "x_train, x_test, y_train, y_test = train_test_split(x, y, test_size=test_size,\n",
    "                                                    random_state=random_seed, stratify=y)\n",
    "#分割後サイズ確認\n",
    "print(x.shape)\n",
    "print(x_train.shape)\n",
    "print(x_test.shape)"
   ]
  },
  {
   "cell_type": "code",
   "execution_count": 7,
   "id": "3435c23c-72a0-4626-b42e-6702bd584cea",
   "metadata": {},
   "outputs": [],
   "source": [
    "#複数アルゴリズムで精度を比較\n",
    "#結果が同じになるよう random_stateは同一にする\n",
    "random_seed=123\n",
    "\n",
    "#線形回帰\n",
    "from sklearn.linear_model import LogisticRegression\n",
    "algorithm1 = LogisticRegression(random_state=random_seed)\n",
    "\n",
    "#サポートベクターマシン(カーネル)\n",
    "from sklearn.svm import SVC\n",
    "algorithm2 = SVC(kernel='rbf', random_state=random_seed)\n",
    "\n",
    "#決定木\n",
    "from sklearn.tree import DecisionTreeClassifier\n",
    "algorithm3 = DecisionTreeClassifier(random_state=random_seed)\n",
    "\n",
    "#ランダムフォレスト\n",
    "from sklearn.ensemble import RandomForestClassifier\n",
    "algorithm4 = RandomForestClassifier(random_state=random_seed)\n",
    "\n",
    "#XGBoost\n",
    "from xgboost import XGBClassifier\n",
    "algorithm5 = XGBClassifier(random_state=random_seed)\n",
    "\n",
    "#アルゴリズムのリスト作成\n",
    "algorithms = [algorithm1, algorithm2, algorithm3, algorithm4, algorithm5]"
   ]
  },
  {
   "cell_type": "code",
   "execution_count": 8,
   "id": "8c5895b7-9a50-483d-9b3d-8bb5468e2350",
   "metadata": {},
   "outputs": [
    {
     "name": "stderr",
     "output_type": "stream",
     "text": [
      "/home/ubuntu/python3-venv/lib/python3.8/site-packages/sklearn/linear_model/_logistic.py:444: ConvergenceWarning: lbfgs failed to converge (status=1):\n",
      "STOP: TOTAL NO. of ITERATIONS REACHED LIMIT.\n",
      "\n",
      "Increase the number of iterations (max_iter) or scale the data as shown in:\n",
      "    https://scikit-learn.org/stable/modules/preprocessing.html\n",
      "Please also refer to the documentation for alternative solver options:\n",
      "    https://scikit-learn.org/stable/modules/linear_model.html#logistic-regression\n",
      "  n_iter_i = _check_optimize_result(\n"
     ]
    },
    {
     "name": "stdout",
     "output_type": "stream",
     "text": [
      "score: 0.9649 LogisticRegression\n",
      "score: 0.8947 SVC\n",
      "score: 0.9474 DecisionTreeClassifier\n",
      "score: 0.9298 RandomForestClassifier\n",
      "score: 0.9825 XGBClassifier\n"
     ]
    }
   ],
   "source": [
    "#複数アルゴリズムで精度比較\n",
    "for algorithm in algorithms:\n",
    "    \n",
    "    #訓練データで学習\n",
    "    algorithm.fit(x_train, y_train)\n",
    "    \n",
    "    #検証データで精度鑑定\n",
    "    score = algorithm.score(x_test, y_test)\n",
    "    \n",
    "    #アルゴリズム名取得\n",
    "    name = algorithm.__class__.__name__\n",
    "    \n",
    "    #精度とアルゴリズム名表示\n",
    "    print(f'score: {score:.4f} {name}')"
   ]
  },
  {
   "cell_type": "code",
   "execution_count": 9,
   "id": "594caed9-3c11-4c78-8821-3477c82a18aa",
   "metadata": {},
   "outputs": [
    {
     "name": "stdout",
     "output_type": "stream",
     "text": [
      "SVC(random_state=123)\n"
     ]
    }
   ],
   "source": [
    "#デフォルトのパラメータ値の確認\n",
    "algorithm = SVC(kernel='rbf', random_state=random_seed)\n",
    "print(algorithm)"
   ]
  },
  {
   "cell_type": "code",
   "execution_count": 10,
   "id": "fd732df2-0f1c-4423-b4b7-02adcd4d349f",
   "metadata": {},
   "outputs": [
    {
     "name": "stdout",
     "output_type": "stream",
     "text": [
      "score: 0.6316 gamma: 1\n",
      "score: 0.6316 gamma: 0.1\n",
      "score: 0.6316 gamma: 0.01\n",
      "score: 0.9474 gamma: 0.001\n",
      "score: 0.9474 gamma: 0.0001\n",
      "score: 0.9474 gamma: 1e-05\n"
     ]
    }
   ],
   "source": [
    "#gammaの最適化\n",
    "gammas = [1, 0.1, 0.01, 0.001, 0.0001, 0.00001]\n",
    "\n",
    "for gamma in gammas:\n",
    "    algorithm = SVC(kernel='rbf', gamma = gamma, random_state=random_seed)\n",
    "    algorithm.fit(x_train, y_train)\n",
    "    score = algorithm.score(x_test, y_test)\n",
    "    print(f'score: {score:.4f} gamma: {gamma}')"
   ]
  },
  {
   "cell_type": "code",
   "execution_count": 11,
   "id": "c3e7a370-dba0-4741-ae09-99927d6a34e7",
   "metadata": {},
   "outputs": [
    {
     "name": "stdout",
     "output_type": "stream",
     "text": [
      "score: 0.9474 C: 1\n",
      "score: 0.9298 C: 10\n",
      "score: 0.9298 C: 100\n",
      "score: 0.9298 C: 1000\n",
      "score: 0.9298 C: 10000\n"
     ]
    }
   ],
   "source": [
    "#Cの最適化\n",
    "#gammaは先ほど調べた最適値0.001を採用\n",
    "Cs = [1, 10, 100, 1000, 10000]\n",
    "for C in Cs:\n",
    "    algorithm = SVC(kernel='rbf', gamma=0.001, C=C, \n",
    "                    random_state=random_seed)\n",
    "    algorithm.fit(x_train, y_train)\n",
    "    score = algorithm.score(x_test, y_test)\n",
    "    print(f'score: {score:.4f} C: {C}')"
   ]
  },
  {
   "cell_type": "code",
   "execution_count": 14,
   "id": "0fd3c455-eff4-4931-ae27-7fd02a1892f4",
   "metadata": {},
   "outputs": [
    {
     "name": "stdout",
     "output_type": "stream",
     "text": [
      "平均スコア: 0.9141 個別スコア: [0.88888889 0.91812865 0.93529412]\n"
     ]
    }
   ],
   "source": [
    "#特定のアルゴリズムに対して交差検定を実施\n",
    "\n",
    "#アルゴリズムの定義\n",
    "algorithm = SVC(kernel='rbf', random_state=random_seed, gamma=0.001, C=1)\n",
    "\n",
    "#分割時に正解データの分布が偏らないようにStratifiedKFoldを使用\n",
    "from sklearn.model_selection import StratifiedKFold\n",
    "stratifiedkFold = StratifiedKFold(n_splits=3)\n",
    "\n",
    "#交差検定の実施(分割数＝3)\n",
    "from sklearn.model_selection import cross_val_score\n",
    "scores = cross_val_score(algorithm, x_train, y_train, cv=stratifiedkFold)\n",
    "\n",
    "#平均値の計算\n",
    "mean = scores.mean()\n",
    "\n",
    "#結果確認\n",
    "print(f'平均スコア: {mean:.4f} 個別スコア: {scores}')"
   ]
  },
  {
   "cell_type": "code",
   "execution_count": 16,
   "id": "f1b59220-86d3-47d6-aa3f-21015c4908ba",
   "metadata": {},
   "outputs": [],
   "source": [
    "#候補アルゴリズムのリスト作成\n",
    "\n",
    "#線形回帰\n",
    "from sklearn.linear_model import LogisticRegression\n",
    "algorithm1 = LogisticRegression(random_state=random_seed)\n",
    "\n",
    "#サポートベクターマシン(カーネル)\n",
    "from sklearn.svm import SVC\n",
    "algorithm2 = SVC(kernel='rbf', random_state=random_seed, gamma=0.001, C=1)\n",
    "\n",
    "#決定木\n",
    "from sklearn.tree import DecisionTreeClassifier\n",
    "algorithm3 = DecisionTreeClassifier(random_state=random_seed)\n",
    "\n",
    "#ランダムフォレスト\n",
    "from sklearn.ensemble import RandomForestClassifier\n",
    "algorithm4 = RandomForestClassifier(random_state=random_seed)\n",
    "\n",
    "#XGBoost\n",
    "from xgboost import XGBClassifier\n",
    "algorithm5 = XGBClassifier(random_state=random_seed)\n",
    "\n",
    "#アルゴリズムのリスト作成\n",
    "algorithms = [algorithm1, algorithm2, algorithm3, algorithm4, algorithm5]"
   ]
  },
  {
   "cell_type": "code",
   "execution_count": 18,
   "id": "b0fb5fa6-03ac-428a-ae9b-726dc8000057",
   "metadata": {},
   "outputs": [
    {
     "name": "stderr",
     "output_type": "stream",
     "text": [
      "/home/ubuntu/python3-venv/lib/python3.8/site-packages/sklearn/linear_model/_logistic.py:444: ConvergenceWarning: lbfgs failed to converge (status=1):\n",
      "STOP: TOTAL NO. of ITERATIONS REACHED LIMIT.\n",
      "\n",
      "Increase the number of iterations (max_iter) or scale the data as shown in:\n",
      "    https://scikit-learn.org/stable/modules/preprocessing.html\n",
      "Please also refer to the documentation for alternative solver options:\n",
      "    https://scikit-learn.org/stable/modules/linear_model.html#logistic-regression\n",
      "  n_iter_i = _check_optimize_result(\n",
      "/home/ubuntu/python3-venv/lib/python3.8/site-packages/sklearn/linear_model/_logistic.py:444: ConvergenceWarning: lbfgs failed to converge (status=1):\n",
      "STOP: TOTAL NO. of ITERATIONS REACHED LIMIT.\n",
      "\n",
      "Increase the number of iterations (max_iter) or scale the data as shown in:\n",
      "    https://scikit-learn.org/stable/modules/preprocessing.html\n",
      "Please also refer to the documentation for alternative solver options:\n",
      "    https://scikit-learn.org/stable/modules/linear_model.html#logistic-regression\n",
      "  n_iter_i = _check_optimize_result(\n",
      "/home/ubuntu/python3-venv/lib/python3.8/site-packages/sklearn/linear_model/_logistic.py:444: ConvergenceWarning: lbfgs failed to converge (status=1):\n",
      "STOP: TOTAL NO. of ITERATIONS REACHED LIMIT.\n",
      "\n",
      "Increase the number of iterations (max_iter) or scale the data as shown in:\n",
      "    https://scikit-learn.org/stable/modules/preprocessing.html\n",
      "Please also refer to the documentation for alternative solver options:\n",
      "    https://scikit-learn.org/stable/modules/linear_model.html#logistic-regression\n",
      "  n_iter_i = _check_optimize_result(\n"
     ]
    },
    {
     "name": "stdout",
     "output_type": "stream",
     "text": [
      "平均スコア: 0.9453 個別スコア: [0.93567251 0.94736842 0.95294118] LogisticRegression\n",
      "平均スコア: 0.9141 個別スコア: [0.88888889 0.91812865 0.93529412] SVC\n",
      "平均スコア: 0.9062 個別スコア: [0.87134503 0.94152047 0.90588235] DecisionTreeClassifier\n",
      "平均スコア: 0.9629 個別スコア: [0.96491228 0.95906433 0.96470588] RandomForestClassifier\n",
      "平均スコア: 0.9570 個別スコア: [0.94736842 0.96491228 0.95882353] XGBClassifier\n"
     ]
    }
   ],
   "source": [
    "#複数アルゴリズムで精度を比較\n",
    "\n",
    "#分割時に正解データの分布が偏らないようにStratifiedKFoldを利用\n",
    "from sklearn.model_selection import StratifiedKFold\n",
    "stratifiedkfold = StratifiedKFold(n_splits=3)\n",
    "\n",
    "from sklearn.model_selection import cross_val_score\n",
    "for algorithm in algorithms:\n",
    "    #交差検定法の実行\n",
    "    scores = cross_val_score(algorithm, x_train, y_train,\n",
    "                             cv=stratifiedkfold)\n",
    "    score = scores.mean()\n",
    "    name = algorithm.__class__.__name__\n",
    "    print(f'平均スコア: {score:.4f} 個別スコア: {scores} {name}')"
   ]
  },
  {
   "cell_type": "code",
   "execution_count": null,
   "id": "aa4ec486-ff04-4f37-8017-9946dfdc662b",
   "metadata": {},
   "outputs": [],
   "source": []
  }
 ],
 "metadata": {
  "kernelspec": {
   "display_name": "Python 3 (ipykernel)",
   "language": "python",
   "name": "python3"
  },
  "language_info": {
   "codemirror_mode": {
    "name": "ipython",
    "version": 3
   },
   "file_extension": ".py",
   "mimetype": "text/x-python",
   "name": "python",
   "nbconvert_exporter": "python",
   "pygments_lexer": "ipython3",
   "version": "3.8.10"
  }
 },
 "nbformat": 4,
 "nbformat_minor": 5
}
