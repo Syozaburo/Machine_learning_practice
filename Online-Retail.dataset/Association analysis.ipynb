{
 "cells": [
  {
   "cell_type": "code",
   "execution_count": 4,
   "id": "28a8ff1b-0d4e-447c-babc-bb11f82b4f25",
   "metadata": {},
   "outputs": [],
   "source": [
    "import seaborn as sns\n",
    "import pandas as pd\n",
    "import numpy as np\n",
    "import matplotlib.pyplot as plt\n",
    "import japanize_matplotlib\n",
    "import warnings\n",
    "warnings.filterwarnings('ignore')\n",
    "\n",
    "#データの読み込み\n",
    "#公開データはExcel形式なので、read_excel関数で直接読み込む\n",
    "df = pd.read_excel('https://archive.ics.uci.edu/ml/machine-learning-databases/00352/Online%20Retail.xlsx')\n",
    "\n",
    "#項目名を日本語に変更\n",
    "columns = [\n",
    "    '発注番号', '商品番号', '商品説明', '商品個数', '明細書発行日',\n",
    "    '商品単価', '顧客番号', '国名'\n",
    "]\n",
    "df.columns = columns"
   ]
  },
  {
   "cell_type": "code",
   "execution_count": 5,
   "id": "85373053-b536-4b48-b3bb-60ec6e934882",
   "metadata": {},
   "outputs": [
    {
     "name": "stdout",
     "output_type": "stream",
     "text": [
      "541909\n"
     ]
    },
    {
     "data": {
      "text/html": [
       "<div>\n",
       "<style scoped>\n",
       "    .dataframe tbody tr th:only-of-type {\n",
       "        vertical-align: middle;\n",
       "    }\n",
       "\n",
       "    .dataframe tbody tr th {\n",
       "        vertical-align: top;\n",
       "    }\n",
       "\n",
       "    .dataframe thead th {\n",
       "        text-align: right;\n",
       "    }\n",
       "</style>\n",
       "<table border=\"1\" class=\"dataframe\">\n",
       "  <thead>\n",
       "    <tr style=\"text-align: right;\">\n",
       "      <th></th>\n",
       "      <th>発注番号</th>\n",
       "      <th>商品番号</th>\n",
       "      <th>商品説明</th>\n",
       "      <th>商品個数</th>\n",
       "      <th>明細書発行日</th>\n",
       "      <th>商品単価</th>\n",
       "      <th>顧客番号</th>\n",
       "      <th>国名</th>\n",
       "    </tr>\n",
       "  </thead>\n",
       "  <tbody>\n",
       "    <tr>\n",
       "      <th>0</th>\n",
       "      <td>536365</td>\n",
       "      <td>85123A</td>\n",
       "      <td>WHITE HANGING HEART T-LIGHT HOLDER</td>\n",
       "      <td>6</td>\n",
       "      <td>2010-12-01 08:26:00</td>\n",
       "      <td>2.55</td>\n",
       "      <td>17850.0</td>\n",
       "      <td>United Kingdom</td>\n",
       "    </tr>\n",
       "    <tr>\n",
       "      <th>1</th>\n",
       "      <td>536365</td>\n",
       "      <td>71053</td>\n",
       "      <td>WHITE METAL LANTERN</td>\n",
       "      <td>6</td>\n",
       "      <td>2010-12-01 08:26:00</td>\n",
       "      <td>3.39</td>\n",
       "      <td>17850.0</td>\n",
       "      <td>United Kingdom</td>\n",
       "    </tr>\n",
       "    <tr>\n",
       "      <th>2</th>\n",
       "      <td>536365</td>\n",
       "      <td>84406B</td>\n",
       "      <td>CREAM CUPID HEARTS COAT HANGER</td>\n",
       "      <td>8</td>\n",
       "      <td>2010-12-01 08:26:00</td>\n",
       "      <td>2.75</td>\n",
       "      <td>17850.0</td>\n",
       "      <td>United Kingdom</td>\n",
       "    </tr>\n",
       "    <tr>\n",
       "      <th>3</th>\n",
       "      <td>536365</td>\n",
       "      <td>84029G</td>\n",
       "      <td>KNITTED UNION FLAG HOT WATER BOTTLE</td>\n",
       "      <td>6</td>\n",
       "      <td>2010-12-01 08:26:00</td>\n",
       "      <td>3.39</td>\n",
       "      <td>17850.0</td>\n",
       "      <td>United Kingdom</td>\n",
       "    </tr>\n",
       "    <tr>\n",
       "      <th>4</th>\n",
       "      <td>536365</td>\n",
       "      <td>84029E</td>\n",
       "      <td>RED WOOLLY HOTTIE WHITE HEART.</td>\n",
       "      <td>6</td>\n",
       "      <td>2010-12-01 08:26:00</td>\n",
       "      <td>3.39</td>\n",
       "      <td>17850.0</td>\n",
       "      <td>United Kingdom</td>\n",
       "    </tr>\n",
       "  </tbody>\n",
       "</table>\n",
       "</div>"
      ],
      "text/plain": [
       "     発注番号    商品番号                                 商品説明  商品個数  \\\n",
       "0  536365  85123A   WHITE HANGING HEART T-LIGHT HOLDER     6   \n",
       "1  536365   71053                  WHITE METAL LANTERN     6   \n",
       "2  536365  84406B       CREAM CUPID HEARTS COAT HANGER     8   \n",
       "3  536365  84029G  KNITTED UNION FLAG HOT WATER BOTTLE     6   \n",
       "4  536365  84029E       RED WOOLLY HOTTIE WHITE HEART.     6   \n",
       "\n",
       "               明細書発行日  商品単価     顧客番号              国名  \n",
       "0 2010-12-01 08:26:00  2.55  17850.0  United Kingdom  \n",
       "1 2010-12-01 08:26:00  3.39  17850.0  United Kingdom  \n",
       "2 2010-12-01 08:26:00  2.75  17850.0  United Kingdom  \n",
       "3 2010-12-01 08:26:00  3.39  17850.0  United Kingdom  \n",
       "4 2010-12-01 08:26:00  3.39  17850.0  United Kingdom  "
      ]
     },
     "metadata": {},
     "output_type": "display_data"
    }
   ],
   "source": [
    "#データ件数確認\n",
    "print(df.shape[0])\n",
    "\n",
    "#データ内容確認\n",
    "display(df.head())"
   ]
  },
  {
   "cell_type": "code",
   "execution_count": 6,
   "id": "edaa80d8-64e2-4d9d-ae62-bdda04633e48",
   "metadata": {},
   "outputs": [
    {
     "name": "stdout",
     "output_type": "stream",
     "text": [
      "発注番号           0\n",
      "商品番号           0\n",
      "商品説明        1454\n",
      "商品個数           0\n",
      "明細書発行日         0\n",
      "商品単価           0\n",
      "顧客番号      135080\n",
      "国名             0\n",
      "dtype: int64\n"
     ]
    }
   ],
   "source": [
    "#欠損値確認\n",
    "print(df.isnull().sum())"
   ]
  },
  {
   "cell_type": "code",
   "execution_count": 7,
   "id": "8f582137-ac96-4d05-a010-d3963cc94f77",
   "metadata": {},
   "outputs": [
    {
     "name": "stdout",
     "output_type": "stream",
     "text": [
      "United Kingdom    495478\n",
      "Germany             9495\n",
      "France              8557\n",
      "EIRE                8196\n",
      "Spain               2533\n",
      "Netherlands         2371\n",
      "Belgium             2069\n",
      "Switzerland         2002\n",
      "Portugal            1519\n",
      "Australia           1259\n",
      "Name: 国名, dtype: int64\n"
     ]
    }
   ],
   "source": [
    "#国名確認\n",
    "print(df['国名'].value_counts().head(10))"
   ]
  },
  {
   "cell_type": "code",
   "execution_count": null,
   "id": "15b7db7b-b925-4182-b775-a85bbdf3dfd3",
   "metadata": {},
   "outputs": [],
   "source": []
  }
 ],
 "metadata": {
  "kernelspec": {
   "display_name": "Python 3 (ipykernel)",
   "language": "python",
   "name": "python3"
  },
  "language_info": {
   "codemirror_mode": {
    "name": "ipython",
    "version": 3
   },
   "file_extension": ".py",
   "mimetype": "text/x-python",
   "name": "python",
   "nbconvert_exporter": "python",
   "pygments_lexer": "ipython3",
   "version": "3.8.10"
  }
 },
 "nbformat": 4,
 "nbformat_minor": 5
}
